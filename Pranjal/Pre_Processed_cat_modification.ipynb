{
 "cells": [
  {
   "cell_type": "code",
   "execution_count": 2,
   "metadata": {},
   "outputs": [],
   "source": [
    "import pandas as pd\n",
    "df = pd.read_csv('Pre_Processed_star_catalogue.csv')\n",
    "import numpy as np"
   ]
  },
  {
   "cell_type": "code",
   "execution_count": 3,
   "metadata": {},
   "outputs": [
    {
     "data": {
      "text/plain": [
       "0         1.000000\n",
       "1         1.000000\n",
       "2         1.000000\n",
       "3         1.000000\n",
       "4         1.000000\n",
       "            ...   \n",
       "432111    0.939693\n",
       "432112    0.939693\n",
       "432113    0.939693\n",
       "432114    0.939693\n",
       "432115    0.939693\n",
       "Name: cos_ang_dist, Length: 432116, dtype: float64"
      ]
     },
     "execution_count": 3,
     "metadata": {},
     "output_type": "execute_result"
    }
   ],
   "source": [
    "df['cos_ang_dist']= np.cos(np.radians(df['Ang_Distance'].values))\n",
    "df['cos_ang_dist']"
   ]
  },
  {
   "cell_type": "code",
   "execution_count": 4,
   "metadata": {},
   "outputs": [],
   "source": [
    "df = df.sort_values(\"cos_ang_dist\")"
   ]
  },
  {
   "cell_type": "code",
   "execution_count": 5,
   "metadata": {},
   "outputs": [],
   "source": [
    "df['index']= range(1,len(df)+1)\n",
    "df = df[['index','Star_ID1','Star_ID2','cos_ang_dist']]\n",
    "df.to_csv(\"PreProcessedFinal3.csv\", header = False, index = False)"
   ]
  },
  {
   "cell_type": "code",
   "execution_count": 6,
   "metadata": {},
   "outputs": [
    {
     "data": {
      "text/plain": [
       "0.9930322136889949"
      ]
     },
     "execution_count": 6,
     "metadata": {},
     "output_type": "execute_result"
    }
   ],
   "source": [
    "#df.to_csv(\"PreProcessedFinal2.csv\", header = False, index = False)\n",
    "a = df['cos_ang_dist'].values\n",
    "a[432115-52373+1]"
   ]
  },
  {
   "cell_type": "code",
   "execution_count": 7,
   "metadata": {},
   "outputs": [
    {
     "data": {
      "text/plain": [
       "'34703,31050 - 247887 - 432116-247887+1  \\n34703,30217 - 331269\\n34703,32028 - 213476\\n32028,31050 - 19912\\n32028,30217 - 52373\\n30217,31050 - 9866\\n\\nS1 - 34703\\nS2 - 31050\\nS3 - 30217\\nS4 - 32028'"
      ]
     },
     "execution_count": 7,
     "metadata": {},
     "output_type": "execute_result"
    }
   ],
   "source": [
    "'''34703,31050 - 247887 - 432116-247887+1  \n",
    "34703,30217 - 331269\n",
    "34703,32028 - 213476\n",
    "32028,31050 - 19912\n",
    "32028,30217 - 52373\n",
    "30217,31050 - 9866\n",
    "\n",
    "S1 - 34703\n",
    "S2 - 31050\n",
    "S3 - 30217\n",
    "S4 - 32028'''"
   ]
  },
  {
   "cell_type": "code",
   "execution_count": 8,
   "metadata": {},
   "outputs": [
    {
     "data": {
      "text/html": [
       "<div>\n",
       "<style scoped>\n",
       "    .dataframe tbody tr th:only-of-type {\n",
       "        vertical-align: middle;\n",
       "    }\n",
       "\n",
       "    .dataframe tbody tr th {\n",
       "        vertical-align: top;\n",
       "    }\n",
       "\n",
       "    .dataframe thead th {\n",
       "        text-align: right;\n",
       "    }\n",
       "</style>\n",
       "<table border=\"1\" class=\"dataframe\">\n",
       "  <thead>\n",
       "    <tr style=\"text-align: right;\">\n",
       "      <th></th>\n",
       "      <th>index</th>\n",
       "      <th>Star_ID1</th>\n",
       "      <th>Star_ID2</th>\n",
       "      <th>cos_ang_dist</th>\n",
       "    </tr>\n",
       "  </thead>\n",
       "  <tbody>\n",
       "    <tr>\n",
       "      <td>52373</td>\n",
       "      <td>379743</td>\n",
       "      <td>32028.0</td>\n",
       "      <td>30217</td>\n",
       "      <td>0.993032</td>\n",
       "    </tr>\n",
       "  </tbody>\n",
       "</table>\n",
       "</div>"
      ],
      "text/plain": [
       "        index  Star_ID1  Star_ID2  cos_ang_dist\n",
       "52373  379743   32028.0     30217      0.993032"
      ]
     },
     "execution_count": 8,
     "metadata": {},
     "output_type": "execute_result"
    }
   ],
   "source": [
    "df[(df['Star_ID1']==32028)&(df['Star_ID2']==30217)]"
   ]
  },
  {
   "cell_type": "code",
   "execution_count": 10,
   "metadata": {},
   "outputs": [
    {
     "data": {
      "text/html": [
       "<div>\n",
       "<style scoped>\n",
       "    .dataframe tbody tr th:only-of-type {\n",
       "        vertical-align: middle;\n",
       "    }\n",
       "\n",
       "    .dataframe tbody tr th {\n",
       "        vertical-align: top;\n",
       "    }\n",
       "\n",
       "    .dataframe thead th {\n",
       "        text-align: right;\n",
       "    }\n",
       "</style>\n",
       "<table border=\"1\" class=\"dataframe\">\n",
       "  <thead>\n",
       "    <tr style=\"text-align: right;\">\n",
       "      <th></th>\n",
       "      <th>index</th>\n",
       "      <th>Star_ID1</th>\n",
       "      <th>Star_ID2</th>\n",
       "      <th>cos_ang_dist</th>\n",
       "    </tr>\n",
       "  </thead>\n",
       "  <tbody>\n",
       "    <tr>\n",
       "      <td>245024</td>\n",
       "      <td>187092</td>\n",
       "      <td>34086.0</td>\n",
       "      <td>33431</td>\n",
       "      <td>0.966225</td>\n",
       "    </tr>\n",
       "  </tbody>\n",
       "</table>\n",
       "</div>"
      ],
      "text/plain": [
       "         index  Star_ID1  Star_ID2  cos_ang_dist\n",
       "245024  187092   34086.0     33431      0.966225"
      ]
     },
     "execution_count": 10,
     "metadata": {},
     "output_type": "execute_result"
    }
   ],
   "source": [
    "df[df['index']==187092]"
   ]
  },
  {
   "cell_type": "code",
   "execution_count": null,
   "metadata": {},
   "outputs": [],
   "source": []
  }
 ],
 "metadata": {
  "kernelspec": {
   "display_name": "Python 3",
   "language": "python",
   "name": "python3"
  },
  "language_info": {
   "codemirror_mode": {
    "name": "ipython",
    "version": 3
   },
   "file_extension": ".py",
   "mimetype": "text/x-python",
   "name": "python",
   "nbconvert_exporter": "python",
   "pygments_lexer": "ipython3",
   "version": "3.7.4"
  }
 },
 "nbformat": 4,
 "nbformat_minor": 2
}
